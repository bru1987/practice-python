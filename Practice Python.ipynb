{
 "cells": [
  {
   "cell_type": "markdown",
   "metadata": {},
   "source": [
    "# Practice Python"
   ]
  },
  {
   "cell_type": "markdown",
   "metadata": {},
   "source": [
    "This is a notebook that contains all the exercises from https://www.practicepython.org/ solved."
   ]
  },
  {
   "cell_type": "markdown",
   "metadata": {},
   "source": [
    "# Exercise 1 - Character input"
   ]
  },
  {
   "cell_type": "markdown",
   "metadata": {},
   "source": [
    "Create a program that asks the user to enter their name and their age. Print out a message addressed to them that tells them the year that they will turn 100 years old."
   ]
  },
  {
   "cell_type": "markdown",
   "metadata": {},
   "source": [
    "**Walking the extra mile:**\n",
    "- Add on to the previous program by asking the user for another number and printing out that many copies of the previous message. (Hint: order of operations exists in Python)\n",
    "- Print out that many copies of the previous message on separate lines. (Hint: the string \"\\n is the same as pressing the ENTER button)"
   ]
  },
  {
   "cell_type": "markdown",
   "metadata": {},
   "source": [
    "## Solution"
   ]
  },
  {
   "cell_type": "code",
   "execution_count": 25,
   "metadata": {},
   "outputs": [
    {
     "name": "stdout",
     "output_type": "stream",
     "text": [
      "What is your name? Bruno\n",
      "How old are you? 32\n",
      "Bruno will be 100 years old in 2088\n"
     ]
    }
   ],
   "source": [
    "import datetime\n",
    "now = datetime.datetime.now()\n",
    "\n",
    "name = input(\"What is your name? \")\n",
    "age = int(input(\"How old are you? \"))\n",
    "\n",
    "year_100 = now.year - age + 100\n",
    "\n",
    "print(name,\"will be 100 years old in\", year_100)"
   ]
  },
  {
   "cell_type": "markdown",
   "metadata": {},
   "source": [
    "As one can see, the program only works if you already had our birthday this year. To make the program more robust, we need to get the user's actual birthday date and check to see if we are missing the calculation by one."
   ]
  },
  {
   "cell_type": "code",
   "execution_count": 28,
   "metadata": {},
   "outputs": [
    {
     "name": "stdout",
     "output_type": "stream",
     "text": [
      "What is your name? Bruno\n",
      "How old are you? 32\n",
      "In what month were you born? (Use 1 for January, 2 for February and so on) 6\n",
      "In what day were you born? 20\n",
      "Bruno will be 100 years old in 2087\n"
     ]
    }
   ],
   "source": [
    "import datetime\n",
    "now = datetime.datetime.now()\n",
    "\n",
    "name = input(\"What is your name? \")\n",
    "age = int(input(\"How old are you? \"))\n",
    "user_month_born = int(input(\"In what month were you born? (Use 1 for January, 2 for February and so on) \"))\n",
    "user_day_born = int(input(\"In what day were you born? \"))\n",
    "\n",
    "if (now.month >= user_month_born & now.day >= user_day_born):\n",
    "    year_100 = now.year - age + 100\n",
    "else:\n",
    "    year_100 = now.year - age + 99\n",
    "\n",
    "print(name,\"will be 100 years old in\", year_100)"
   ]
  },
  {
   "cell_type": "markdown",
   "metadata": {},
   "source": [
    "To complete the exercise, let's build a variation of the program:"
   ]
  },
  {
   "cell_type": "code",
   "execution_count": 30,
   "metadata": {},
   "outputs": [
    {
     "name": "stdout",
     "output_type": "stream",
     "text": [
      "What is your name? Bruno\n",
      "How old are you? 32\n",
      "In what month were you born? (Use 1 for January, 2 for February and so on) 6\n",
      "In what day were you born? 20\n",
      "How many times would you like to read the answer? 5\n",
      "\n",
      "\n",
      "Bruno will be 100 years old in 2087\n",
      "Bruno will be 100 years old in 2087\n",
      "Bruno will be 100 years old in 2087\n",
      "Bruno will be 100 years old in 2087\n",
      "Bruno will be 100 years old in 2087\n"
     ]
    }
   ],
   "source": [
    "import datetime\n",
    "now = datetime.datetime.now()\n",
    "\n",
    "name = input(\"What is your name? \")\n",
    "age = int(input(\"How old are you? \"))\n",
    "user_month_born = int(input(\"In what month were you born? (Use 1 for January, 2 for February and so on) \"))\n",
    "user_day_born = int(input(\"In what day were you born? \"))\n",
    "copies = int(input(\"How many times would you like to read the answer? \"))\n",
    "\n",
    "if (now.month >= user_month_born & now.day >= user_day_born):\n",
    "    year_100 = now.year - age + 100\n",
    "else:\n",
    "    year_100 = now.year - age + 99\n",
    "\n",
    "print(\"\\n\")\n",
    "    \n",
    "for i in range (0,copies):\n",
    "    print(name,\"will be 100 years old in\", year_100)"
   ]
  },
  {
   "cell_type": "markdown",
   "metadata": {},
   "source": [
    "# Exercise 2 - Odd or even"
   ]
  },
  {
   "cell_type": "markdown",
   "metadata": {},
   "source": [
    "Ask the user for a number. Depending on whether the number is even or odd, print out an appropriate message to the user. Hint: how does an even / odd number react differently when divided by 2?"
   ]
  },
  {
   "cell_type": "markdown",
   "metadata": {},
   "source": [
    "**Walking the extra mile:**\n",
    "- If the number is a multiple of 4, print out a different message.\n",
    "- Ask the user for two numbers: one number to check (call it num) and one number to divide by (check). If check divides evenly into num, tell that to the user. If not, print a different appropriate message."
   ]
  },
  {
   "cell_type": "markdown",
   "metadata": {},
   "source": [
    "## Solution"
   ]
  },
  {
   "cell_type": "code",
   "execution_count": 4,
   "metadata": {},
   "outputs": [
    {
     "name": "stdout",
     "output_type": "stream",
     "text": [
      "Choose a number: 12\n",
      "12 is an even number\n"
     ]
    }
   ],
   "source": [
    "number = int(input(\"Choose a number: \"))\n",
    "if number%2 == 0:\n",
    "    print(number, \"is an even number\")    \n",
    "else:\n",
    "    print(number, \"is an odd number\")"
   ]
  },
  {
   "cell_type": "markdown",
   "metadata": {},
   "source": [
    "To complete the **extra mile** of the program, let's build a couple of variations. Firstly, let's also check if the number is a multiple of 4:"
   ]
  },
  {
   "cell_type": "code",
   "execution_count": 8,
   "metadata": {},
   "outputs": [
    {
     "name": "stdout",
     "output_type": "stream",
     "text": [
      "Choose a number: 12\n",
      "12 is an even number AND it is a multiple of 4!\n"
     ]
    }
   ],
   "source": [
    "number = int(input(\"Choose a number: \"))\n",
    "if number%2 == 0:\n",
    "    if number%4 == 0:\n",
    "        print(number, \"is an even number AND it is a multiple of 4!\")    \n",
    "    else:\n",
    "        print(number, \"is an even number\")    \n",
    "else:\n",
    "    print(number, \"is an odd number\")"
   ]
  },
  {
   "cell_type": "code",
   "execution_count": 10,
   "metadata": {},
   "outputs": [
    {
     "name": "stdout",
     "output_type": "stream",
     "text": [
      "Choose a number: 6\n",
      "By what number do you want to check its divisibility? 5\n",
      "6 is not divisible by 5\n"
     ]
    }
   ],
   "source": [
    "number = int(input(\"Choose a number: \"))\n",
    "divisor = int(input(\"By what number do you want to check its divisibility? \"))\n",
    "\n",
    "if number%divisor == 0:\n",
    "    print(number, \"is divisible by\", divisor)    \n",
    "else:\n",
    "    print(number, \"is not divisible by\", divisor)"
   ]
  },
  {
   "cell_type": "code",
   "execution_count": null,
   "metadata": {},
   "outputs": [],
   "source": []
  }
 ],
 "metadata": {
  "kernelspec": {
   "display_name": "Python 3",
   "language": "python",
   "name": "python3"
  },
  "language_info": {
   "codemirror_mode": {
    "name": "ipython",
    "version": 3
   },
   "file_extension": ".py",
   "mimetype": "text/x-python",
   "name": "python",
   "nbconvert_exporter": "python",
   "pygments_lexer": "ipython3",
   "version": "3.7.4"
  }
 },
 "nbformat": 4,
 "nbformat_minor": 2
}
