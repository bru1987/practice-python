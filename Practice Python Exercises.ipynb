{
 "cells": [
  {
   "cell_type": "markdown",
   "metadata": {},
   "source": [
    "# Practice Python Exercises"
   ]
  },
  {
   "cell_type": "markdown",
   "metadata": {},
   "source": [
    "Solutions to the exercises on https://www.practicepython.org/"
   ]
  },
  {
   "cell_type": "markdown",
   "metadata": {},
   "source": [
    "## Exercise 1"
   ]
  },
  {
   "cell_type": "markdown",
   "metadata": {},
   "source": [
    "Create a program that asks the user to enter their name and their age. Print out a message addressed to them that tells them the year that they will turn 100 years old.\n",
    "\n",
    "Extras:\n",
    "\n",
    "Add on to the previous program by asking the user for another number and printing out that many copies of the previous message. (Hint: order of operations exists in Python)\n",
    "Print out that many copies of the previous message on separate lines. (Hint: the string \"\\n is the same as pressing the ENTER button)"
   ]
  },
  {
   "cell_type": "markdown",
   "metadata": {},
   "source": [
    "## Answer"
   ]
  },
  {
   "cell_type": "code",
   "execution_count": 1,
   "metadata": {},
   "outputs": [
    {
     "name": "stdout",
     "output_type": "stream",
     "text": [
      "Please enter the year you were born: 1987\n",
      "You will turn 100 in  2087\n",
      "How many copies do you want? 4\n",
      "You will turn 100 in  2087\n",
      "You will turn 100 in  2087\n",
      "You will turn 100 in  2087\n",
      "You will turn 100 in  2087\n"
     ]
    }
   ],
   "source": [
    "year_born = int(input(\"Please enter the year you were born: \"))\n",
    "print (\"You will turn 100 in \",year_born+100)\n",
    "\n",
    "copies = int(input(\"How many copies do you want? \"))\n",
    "\n",
    "for i in range(0,copies):\n",
    "    print (\"You will turn 100 in \",year_born+100)"
   ]
  },
  {
   "cell_type": "markdown",
   "metadata": {},
   "source": [
    "## Exercise 2"
   ]
  },
  {
   "cell_type": "markdown",
   "metadata": {},
   "source": [
    "Ask the user for a number. Depending on whether the number is even or odd, print out an appropriate message to the user. Hint: how does an even / odd number react differently when divided by 2?\n",
    "\n",
    "Extras:\n",
    "\n",
    "If the number is a multiple of 4, print out a different message.\n",
    "Ask the user for two numbers: one number to check (call it num) and one number to divide by (check). If check divides evenly into num, tell that to the user. If not, print a different appropriate message."
   ]
  },
  {
   "cell_type": "markdown",
   "metadata": {},
   "source": [
    "## Answer"
   ]
  },
  {
   "cell_type": "code",
   "execution_count": 2,
   "metadata": {},
   "outputs": [
    {
     "name": "stdout",
     "output_type": "stream",
     "text": [
      "Tell me a number: 132\n",
      "The number is a multiple of 4\n"
     ]
    }
   ],
   "source": [
    "number = int(input(\"Tell me a number: \"))\n",
    "if number % 4 == 0:\n",
    "    print (\"The number is a multiple of 4\")\n",
    "elif number % 2 == 0:\n",
    "    print (\"The number os even\")\n",
    "else:\n",
    "    print (\"The number is odd\")"
   ]
  },
  {
   "cell_type": "code",
   "execution_count": 3,
   "metadata": {},
   "outputs": [
    {
     "name": "stdout",
     "output_type": "stream",
     "text": [
      "Tell me a number: 132\n",
      "You want to check its divisibility by what number? 5\n",
      "The number 132 is not divisible by 5\n"
     ]
    }
   ],
   "source": [
    "number = int(input(\"Tell me a number: \"))\n",
    "divisor = int(input(\"You want to check its divisibility by what number? \"))\n",
    "if number % divisor == 0:\n",
    "    print (\"The number\",number, \"is divisible by\", divisor)\n",
    "else:\n",
    "    print (\"The number\",number, \"is not divisible by\", divisor)"
   ]
  },
  {
   "cell_type": "markdown",
   "metadata": {},
   "source": [
    "## Exercise 3"
   ]
  },
  {
   "cell_type": "markdown",
   "metadata": {},
   "source": [
    "Take a list, say for example this one:\n",
    "\n",
    "a = [1, 1, 2, 3, 5, 8, 13, 21, 34, 55, 89]\n",
    "  \n",
    "and write a program that prints out all the elements of the list that are less than 5.\n",
    "\n",
    "Extras:\n",
    "\n",
    "Instead of printing the elements one by one, make a new list that has all the elements less than 5 from this list in it and print out this new list.\n",
    "Write this in one line of Python.\n",
    "Ask the user for a number and return a list that contains only elements from the original list a that are smaller than that number given by the user.\n"
   ]
  },
  {
   "cell_type": "markdown",
   "metadata": {},
   "source": [
    "## Answer"
   ]
  },
  {
   "cell_type": "code",
   "execution_count": 5,
   "metadata": {},
   "outputs": [
    {
     "name": "stdout",
     "output_type": "stream",
     "text": [
      "1\n",
      "1\n",
      "2\n",
      "3\n"
     ]
    }
   ],
   "source": [
    "a = [1, 1, 2, 3, 5, 8, 13, 21, 34, 55, 89]\n",
    "for i in range (0,len(a)):\n",
    "    if a[i] < 5:\n",
    "        print(a[i])"
   ]
  },
  {
   "cell_type": "markdown",
   "metadata": {},
   "source": [
    "Given that we already know the position of the character/integer 5,"
   ]
  },
  {
   "cell_type": "code",
   "execution_count": 6,
   "metadata": {},
   "outputs": [
    {
     "name": "stdout",
     "output_type": "stream",
     "text": [
      "[1, 1, 2, 3]\n"
     ]
    }
   ],
   "source": [
    "a = [1, 1, 2, 3, 5, 8, 13, 21, 34, 55, 89]\n",
    "print (a[:4])"
   ]
  },
  {
   "cell_type": "markdown",
   "metadata": {},
   "source": [
    "Let's say we know that 5 is there but we don't know its position:"
   ]
  },
  {
   "cell_type": "code",
   "execution_count": 7,
   "metadata": {},
   "outputs": [
    {
     "name": "stdout",
     "output_type": "stream",
     "text": [
      "[1, 1, 2, 3]\n"
     ]
    }
   ],
   "source": [
    "b = a.index(5)\n",
    "print (a[:b])"
   ]
  },
  {
   "cell_type": "markdown",
   "metadata": {},
   "source": [
    "Now the last variation of the exercise:"
   ]
  },
  {
   "cell_type": "code",
   "execution_count": 8,
   "metadata": {},
   "outputs": [
    {
     "name": "stdout",
     "output_type": "stream",
     "text": [
      "Write a maximum number: 23\n",
      "1\n",
      "1\n",
      "2\n",
      "3\n",
      "5\n",
      "8\n",
      "13\n",
      "21\n"
     ]
    }
   ],
   "source": [
    "c = int(input(\"Write a maximum number: \"))\n",
    "for i in range (0,len(a)):\n",
    "    if c >= a[i]:\n",
    "        print(a[i])"
   ]
  },
  {
   "cell_type": "markdown",
   "metadata": {},
   "source": [
    "## Exercise 4"
   ]
  },
  {
   "cell_type": "markdown",
   "metadata": {},
   "source": [
    "Create a program that asks the user for a number and then prints out a list of all the divisors of that number. (If you don’t know what a divisor is, it is a number that divides evenly into another number. For example, 13 is a divisor of 26 because 26 / 13 has no remainder.)"
   ]
  },
  {
   "cell_type": "markdown",
   "metadata": {},
   "source": [
    "## Answer"
   ]
  },
  {
   "cell_type": "code",
   "execution_count": 9,
   "metadata": {},
   "outputs": [
    {
     "name": "stdout",
     "output_type": "stream",
     "text": [
      "Write any number: 132\n",
      "[132, 66, 44, 33, 22, 12, 11, 6, 4, 3]\n",
      "The number 132 has 10 divisors: [132, 66, 44, 33, 22, 12, 11, 6, 4, 3]\n"
     ]
    }
   ],
   "source": [
    "user_input = int(input(\"Write any number: \"))\n",
    "b = []\n",
    "\n",
    "for i in range(user_input,2,-1):\n",
    "    if user_input % i == 0:\n",
    "        b.append(i)\n",
    "print (b)\n",
    "print (\"The number\",user_input,\"has\",len(b),\"divisors:\",b)"
   ]
  },
  {
   "cell_type": "markdown",
   "metadata": {
    "collapsed": true
   },
   "source": [
    "## Exercise 5"
   ]
  },
  {
   "cell_type": "markdown",
   "metadata": {},
   "source": [
    "Take two lists, say for example these two:\n",
    "\n",
    "a = [1, 1, 2, 3, 5, 8, 13, 21, 34, 55, 89]\n",
    "\n",
    "b = [1, 2, 3, 4, 5, 6, 7, 8, 9, 10, 11, 12, 13]\n",
    "\n",
    "and write a program that returns a list that contains only the elements that are common between the lists (without duplicates). Make sure your program works on two lists of different sizes.\n",
    "\n",
    "Extras:\n",
    "\n",
    "Randomly generate two lists to test this\n",
    "Write this in one line of Python (don’t worry if you can’t figure this out at this point - we’ll get to it soon)\n"
   ]
  },
  {
   "cell_type": "markdown",
   "metadata": {},
   "source": [
    "## Answer"
   ]
  },
  {
   "cell_type": "code",
   "execution_count": 1,
   "metadata": {},
   "outputs": [
    {
     "name": "stdout",
     "output_type": "stream",
     "text": [
      "[1, 4, 5, 7, 8]\n",
      "[1, 4, 5, 7, 8]\n"
     ]
    }
   ],
   "source": [
    "import random\n",
    "\n",
    "#Creating two random lists\n",
    "a = random.sample(range(1, 10), 8)\n",
    "b = random.sample(range(1, 10), 5)\n",
    "\n",
    "# Initializing the result variable\n",
    "result = []\n",
    "\n",
    "# Creating random lists a and b\n",
    "\n",
    "# Removing duplicate terms\n",
    "a = list(set(a))\n",
    "b = list(set(b))\n",
    "\n",
    "for i in range(0,len(a)):\n",
    "    if a[i] in b:\n",
    "        result.append(a[i])\n",
    "print (sorted(result))\n",
    "\n",
    "# Let's double check the algorithm by doing the same using XXX\n",
    "result2 = list(set(a).intersection(b))\n",
    "print (sorted(result2))"
   ]
  },
  {
   "cell_type": "markdown",
   "metadata": {},
   "source": [
    "## Exercise 6"
   ]
  },
  {
   "cell_type": "markdown",
   "metadata": {},
   "source": [
    "Ask the user for a string and print out whether this string is a palindrome or not. (A palindrome is a string that reads the same forwards and backwards.)"
   ]
  },
  {
   "cell_type": "markdown",
   "metadata": {},
   "source": [
    "## Answer"
   ]
  },
  {
   "cell_type": "code",
   "execution_count": 17,
   "metadata": {},
   "outputs": [
    {
     "name": "stdout",
     "output_type": "stream",
     "text": [
      "Please insert a string: aba\n",
      "Is it a palyndrome? True\n"
     ]
    }
   ],
   "source": [
    "str = input(\"Please insert a string: \")\n",
    "\n",
    "# Checking if the numbers of characters on the string is even or odd\n",
    "charact = len(str)\n",
    "\n",
    "if charact % 2 == 0:\n",
    "    # Do this\n",
    "    end = int(len(str)/2)\n",
    "else:\n",
    "    # Do that\n",
    "    end = int((len(str)+1)/2)\n",
    "\n",
    "for i in range(0,end):\n",
    "    if str[i] == str[-(i+1)]:\n",
    "        palindrome = True\n",
    "    else:\n",
    "        palindrome = False\n",
    "        break\n",
    "print(\"Is it a palindrome?\", palindrome)"
   ]
  },
  {
   "cell_type": "code",
   "execution_count": 36,
   "metadata": {},
   "outputs": [
    {
     "name": "stdout",
     "output_type": "stream",
     "text": [
      "Please insert a string: abcdcba\n",
      "It is a palindrome\n"
     ]
    }
   ],
   "source": [
    "# A much simpler solution without any loops\n",
    "\n",
    "str = input(\"Please insert a string: \")\n",
    "\n",
    "if list(reversed(str)) == list(str):\n",
    "    palindrome == True\n",
    "    print(\"It is a palindrome\")\n",
    "else:\n",
    "    palindrome == False\n",
    "    print(\"It is not palindrome\")"
   ]
  },
  {
   "cell_type": "markdown",
   "metadata": {},
   "source": [
    "## Exercise 7"
   ]
  },
  {
   "cell_type": "markdown",
   "metadata": {
    "collapsed": true
   },
   "source": [
    "Let’s say I give you a list saved in a variable: a = [1, 4, 9, 16, 25, 36, 49, 64, 81, 100]. Write one line of Python that takes this list a and makes a new list that has only the even elements of this list in it."
   ]
  },
  {
   "cell_type": "markdown",
   "metadata": {},
   "source": [
    "## Answer"
   ]
  },
  {
   "cell_type": "code",
   "execution_count": 4,
   "metadata": {},
   "outputs": [
    {
     "name": "stdout",
     "output_type": "stream",
     "text": [
      "[4, 16, 36, 64, 100]\n"
     ]
    }
   ],
   "source": [
    "a = [1, 4, 9, 16, 25, 36, 49, 64, 81, 100]\n",
    "b = [n for n in a if n % 2 == 0]\n",
    "\n",
    "print(b)"
   ]
  },
  {
   "cell_type": "markdown",
   "metadata": {},
   "source": [
    "## Exercise 8"
   ]
  },
  {
   "cell_type": "markdown",
   "metadata": {},
   "source": [
    "Make a two-player Rock-Paper-Scissors game. (Hint: Ask for player plays (using input), compare them, print out a message of congratulations to the winner, and ask if the players want to start a new game)\n",
    "\n",
    "Remember the rules:\n",
    "\n",
    "- Rock beats scissors\n",
    "- Scissors beats paper\n",
    "- Paper beats rock"
   ]
  },
  {
   "cell_type": "markdown",
   "metadata": {},
   "source": [
    "## Answer"
   ]
  },
  {
   "cell_type": "code",
   "execution_count": 8,
   "metadata": {},
   "outputs": [
    {
     "name": "stdout",
     "output_type": "stream",
     "text": [
      "What is your choice? R for rocks, P for papers, S for scisors and Q for quitting the game: R\n",
      "Computer chose S. USER WINS!\n",
      "What is your choice? R for rocks, P for papers, S for scisors and Q for quitting the game: R\n",
      "Computer chose R. IT'S A TIE!\n",
      "What is your choice? R for rocks, P for papers, S for scisors and Q for quitting the game: R\n",
      "Computer chose P. COMPUTER WINS!\n",
      "What is your choice? R for rocks, P for papers, S for scisors and Q for quitting the game: R\n",
      "Computer chose P. COMPUTER WINS!\n",
      "What is your choice? R for rocks, P for papers, S for scisors and Q for quitting the game: R\n",
      "Computer chose P. COMPUTER WINS!\n",
      "What is your choice? R for rocks, P for papers, S for scisors and Q for quitting the game: R\n",
      "Computer chose P. COMPUTER WINS!\n",
      "What is your choice? R for rocks, P for papers, S for scisors and Q for quitting the game: R\n",
      "Computer chose P. COMPUTER WINS!\n",
      "What is your choice? R for rocks, P for papers, S for scisors and Q for quitting the game: Q\n",
      "You won 1 times and the computer won 5 times.\n"
     ]
    }
   ],
   "source": [
    "# R for rocks\n",
    "# P for papers\n",
    "# S for scisors\n",
    "# Q for quitting the game\n",
    "\n",
    "import random\n",
    "\n",
    "possible_user_inputs = [\"R\", \"P\", \"S\", \"Q\"]\n",
    "computer_wins = 0\n",
    "user_wins = 0\n",
    "\n",
    "while True:\n",
    "    users_choice = input(\"What is your choice? R for rocks, P for papers, S for scisors and Q for quitting the game: \")\n",
    "    computers_choice = random.choice(possible_user_inputs[0:3])\n",
    "    if users_choice not in possible_user_inputs:\n",
    "        print (\"Insert a valid character: \")\n",
    "    elif users_choice == \"Q\":\n",
    "        break\n",
    "    elif (computers_choice == \"R\" and users_choice==\"R\"):\n",
    "        print(\"Computer chose R. IT'S A TIE!\")\n",
    "    elif (computers_choice == \"R\" and users_choice==\"P\"):\n",
    "        user_wins += 1\n",
    "        print(\"Computer chose R. USER WINS!\")\n",
    "    elif (computers_choice == \"R\" and users_choice==\"S\"):\n",
    "        computer_wins += 1\n",
    "        print(\"Computer chose R. COMPUTER WINS!\")\n",
    "    elif (computers_choice == \"P\" and users_choice==\"R\"):\n",
    "        computer_wins += 1\n",
    "        print(\"Computer chose P. COMPUTER WINS!\")\n",
    "    elif (computers_choice == \"P\" and users_choice==\"P\"):\n",
    "        print(\"Computer chose P. IT'S A TIE!\")\n",
    "    elif (computers_choice == \"P\" and users_choice==\"S\"):\n",
    "        user_wins += 1\n",
    "        print(\"Computer chose P. USER WINS!\")\n",
    "    elif (computers_choice == \"S\" and users_choice==\"R\"):\n",
    "        user_wins += 1\n",
    "        print(\"Computer chose S. USER WINS!\")\n",
    "    elif (computers_choice == \"S\" and users_choice==\"P\"):\n",
    "        computer_wins += 1\n",
    "        print(\"Computer chose S. COMPUTER WINS!\")\n",
    "    elif (computers_choice == \"S\" and users_choice==\"S\"):\n",
    "        print(\"Computer chose S. IT'S A TIE!\")\n",
    "        \n",
    "print(\"You won\", user_wins,\"times and the computer won\",computer_wins,\"times.\")"
   ]
  },
  {
   "cell_type": "markdown",
   "metadata": {},
   "source": [
    "## Exercise 9"
   ]
  },
  {
   "cell_type": "code",
   "execution_count": null,
   "metadata": {
    "collapsed": true
   },
   "outputs": [],
   "source": []
  },
  {
   "cell_type": "markdown",
   "metadata": {},
   "source": [
    "## Exercise 16"
   ]
  },
  {
   "cell_type": "markdown",
   "metadata": {},
   "source": [
    "Write a password generator in Python. Be creative with how you generate passwords - strong passwords have a mix of lowercase letters, uppercase letters, numbers, and symbols. The passwords should be random, generating a new password every time the user asks for a new password. Include your run-time code in a main method.\n",
    "\n",
    "Extra:\n",
    "\n",
    "Ask the user how strong they want their password to be. For weak passwords, pick a word or two from a list."
   ]
  },
  {
   "cell_type": "markdown",
   "metadata": {},
   "source": [
    "### Answer"
   ]
  },
  {
   "cell_type": "code",
   "execution_count": null,
   "metadata": {
    "collapsed": true
   },
   "outputs": [],
   "source": [
    "import random\n",
    "'{:1.2f}'.format(random.uniform(1,9))"
   ]
  },
  {
   "cell_type": "code",
   "execution_count": null,
   "metadata": {
    "collapsed": true
   },
   "outputs": [],
   "source": []
  }
 ],
 "metadata": {
  "kernelspec": {
   "display_name": "Python 3",
   "language": "python",
   "name": "python3"
  },
  "language_info": {
   "codemirror_mode": {
    "name": "ipython",
    "version": 3
   },
   "file_extension": ".py",
   "mimetype": "text/x-python",
   "name": "python",
   "nbconvert_exporter": "python",
   "pygments_lexer": "ipython3",
   "version": "3.6.1"
  }
 },
 "nbformat": 4,
 "nbformat_minor": 2
}
